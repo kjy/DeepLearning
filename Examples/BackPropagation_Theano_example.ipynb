{
 "cells": [
  {
   "cell_type": "markdown",
   "metadata": {},
   "source": [
    "Notes taken from:\n",
    "\n",
    "Learning Path: Deep Dive into Python Machine Learning, presented by Eder Santana, Chapter 4\n",
    "\n",
    "by Ankita Thakur - Curator\n",
    "\n",
    "Published by Packt Publishing, 2016\n",
    "\n",
    "Learn what is Deep Learning, using Backpropagation with Theano"
   ]
  },
  {
   "cell_type": "code",
   "execution_count": 3,
   "metadata": {
    "collapsed": false
   },
   "outputs": [],
   "source": [
    "# Theano is a python library that lets you make mathematical calculations for multi-dimensional arrays\n",
    "import theano\n",
    "from theano import tensor as T, function\n",
    "\n",
    "import numpy as np"
   ]
  },
  {
   "cell_type": "markdown",
   "metadata": {},
   "source": [
    "## Function Definitions"
   ]
  },
  {
   "cell_type": "code",
   "execution_count": 15,
   "metadata": {
    "collapsed": false
   },
   "outputs": [],
   "source": [
    "X = T.matrix('x') # define a symbolic variable\n",
    "Y = X ** 2 # Define the function \n",
    "\n",
    "Z = T.grad(Y.sum(), X) # Z is the derivative of y with respect to x (T.grad calculates the derivative)\n",
    "\n",
    "F = function([X], [Y, Z])  # compile the symbolic graph"
   ]
  },
  {
   "cell_type": "code",
   "execution_count": 16,
   "metadata": {
    "collapsed": false
   },
   "outputs": [],
   "source": [
    "x = np.ones((2, 2)) * 3 # generate numpy array\n",
    "\n",
    "# pass value to compiled function that moves numpy array to a specific position in memory to\n",
    "# calculate the compiled graph\n",
    "y, z = F(x)  \n",
    "\n",
    "# We are moving variables from different positions in memory. \n",
    "# Shared variables concept in Theano useful for GPUs.\n",
    "# You can move data beforehand to memory and leave it there.\n",
    "# Won't need to consume GPU bandwidth by moving values back and forth."
   ]
  },
  {
   "cell_type": "markdown",
   "metadata": {},
   "source": [
    "## Print results"
   ]
  },
  {
   "cell_type": "code",
   "execution_count": 17,
   "metadata": {
    "collapsed": false
   },
   "outputs": [
    {
     "name": "stdout",
     "output_type": "stream",
     "text": [
      "[[ 3.  3.]\n",
      " [ 3.  3.]]\n",
      "------------\n",
      "[[ 9.  9.]\n",
      " [ 9.  9.]]\n",
      "------------\n",
      "[[ 6.  6.]\n",
      " [ 6.  6.]]\n"
     ]
    }
   ],
   "source": [
    "print(x)\n",
    "print('-'*12)\n",
    "print(y)\n",
    "print('-'*12)\n",
    "print(z)"
   ]
  },
  {
   "cell_type": "code",
   "execution_count": null,
   "metadata": {
    "collapsed": true
   },
   "outputs": [],
   "source": []
  }
 ],
 "metadata": {
  "anaconda-cloud": {},
  "kernelspec": {
   "display_name": "Python [conda root]",
   "language": "python",
   "name": "conda-root-py"
  },
  "language_info": {
   "codemirror_mode": {
    "name": "ipython",
    "version": 3
   },
   "file_extension": ".py",
   "mimetype": "text/x-python",
   "name": "python",
   "nbconvert_exporter": "python",
   "pygments_lexer": "ipython3",
   "version": "3.5.2"
  }
 },
 "nbformat": 4,
 "nbformat_minor": 2
}
