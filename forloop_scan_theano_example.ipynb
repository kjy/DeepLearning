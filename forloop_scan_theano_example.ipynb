{
 "cells": [
  {
   "cell_type": "markdown",
   "metadata": {},
   "source": [
    "Notes taken from:\n",
    "    \n",
    "Learning Path: Deep Dive into Python Machine Learning, presented by Eder Santana, Chapter 4\n",
    "    \n",
    "by Ankita Thakur - Curator\n",
    "\n",
    "Published by Packt Publishing, 2016\n",
    "\n",
    "Learn what is Deep Learning, \"for\" Loops and \"scan\" module in Theano"
   ]
  },
  {
   "cell_type": "code",
   "execution_count": 15,
   "metadata": {
    "collapsed": true
   },
   "outputs": [],
   "source": [
    "# Theano \"for\" loops = the \"scan\" module\n",
    "# Write a simple fibonacci generator"
   ]
  },
  {
   "cell_type": "markdown",
   "metadata": {},
   "source": [
    "## Fibonacci sequence in pure Python with for loops "
   ]
  },
  {
   "cell_type": "code",
   "execution_count": 2,
   "metadata": {
    "collapsed": false
   },
   "outputs": [],
   "source": [
    "from __future__ import print_function"
   ]
  },
  {
   "cell_type": "code",
   "execution_count": 3,
   "metadata": {
    "collapsed": true
   },
   "outputs": [],
   "source": [
    "length = 10 # n_steps (length of sequence)\n",
    "\n",
    "h_tm2 = 0 # \n",
    "h_tm1 = 1 # outputs_info\n",
    "\n",
    "seq = []"
   ]
  },
  {
   "cell_type": "code",
   "execution_count": 4,
   "metadata": {
    "collapsed": true
   },
   "outputs": [],
   "source": [
    "def step(h_tml, h_tm2): \n",
    "    h_t = h_tml + h_tm2  # summ of the previous states\n",
    "    return h_t, h_tml"
   ]
  },
  {
   "cell_type": "code",
   "execution_count": 5,
   "metadata": {
    "collapsed": false
   },
   "outputs": [
    {
     "name": "stdout",
     "output_type": "stream",
     "text": [
      "[1, 2, 3, 5, 8, 13, 21, 34, 55, 89]\n"
     ]
    }
   ],
   "source": [
    "for i in range(length):  # iterate through a number of fixed steps\n",
    "    h_tm1, h_tm2 = step(h_tm1, h_tm2)\n",
    "    seq.append(h_tm1)  # append the last value of state\n",
    "    \n",
    "print(seq)    "
   ]
  },
  {
   "cell_type": "markdown",
   "metadata": {},
   "source": [
    "## . . . in Theano "
   ]
  },
  {
   "cell_type": "code",
   "execution_count": 6,
   "metadata": {
    "collapsed": true
   },
   "outputs": [],
   "source": [
    "from theano import tensor as T, scan, function"
   ]
  },
  {
   "cell_type": "code",
   "execution_count": 7,
   "metadata": {
    "collapsed": false
   },
   "outputs": [
    {
     "data": {
      "text/plain": [
       "'\\nscan(_step, sequences, outputs_info, non_sequences [, n_steps, truncate_])\\n\\nsequences: for loop iterated vector, if not provided, scan requires \\'n_steps\\'\\n    python analogy:\\n    for s in sequnce:\\n        do_something(s)\\n        \\n        \\n    for i in range(n_steps):\\n        do_something(i)\\n        \\noutputs_info: initial values of the outputs of the step function\\n\\nnon_sequences: values that are kept fixed through the entire loop\\n\\nn_steps: int, how many loop (necessary when there are no \"sequences\")\\n\\ntruncate_gradient: depth of the backpropagation through time\\n'"
      ]
     },
     "execution_count": 7,
     "metadata": {},
     "output_type": "execute_result"
    }
   ],
   "source": [
    "'''\n",
    "scan(_step, sequences, outputs_info, non_sequences [, n_steps, truncate_])\n",
    "\n",
    "sequences: for loop iterated vector, if not provided, scan requires 'n_steps'\n",
    "    python analogy:\n",
    "    for s in sequnce:\n",
    "        do_something(s)\n",
    "        \n",
    "        \n",
    "    for i in range(n_steps):\n",
    "        do_something(i)\n",
    "        \n",
    "outputs_info: initial values of the outputs of the step function\n",
    "\n",
    "non_sequences: values that are kept fixed through the entire loop\n",
    "\n",
    "n_steps: int, how many loop (necessary when there are no \"sequences\")\n",
    "\n",
    "truncate_gradient: depth of the backpropagation through time\n",
    "'''"
   ]
  },
  {
   "cell_type": "code",
   "execution_count": 10,
   "metadata": {
    "collapsed": true
   },
   "outputs": [],
   "source": [
    "h1, h2 = T.scalars('h_tm1', 'h_tm2')  # define the placeholders, initial states\n",
    "\n",
    "def _step(h_tm1, h_tm2):\n",
    "    h_t = h_tm1 + h_tm2\n",
    "    return h_t, h_tm1"
   ]
  },
  {
   "cell_type": "code",
   "execution_count": 12,
   "metadata": {
    "collapsed": false
   },
   "outputs": [],
   "source": [
    "# scan will return 2 lists: outputs and updates\n",
    "outputs, updates = scan(_step, sequences=[], outputs_info=[h1, h2], n_steps=length)"
   ]
  },
  {
   "cell_type": "code",
   "execution_count": 13,
   "metadata": {
    "collapsed": true
   },
   "outputs": [],
   "source": [
    "F = function([h2, h1], outputs)\n",
    "\n",
    "# To make theano compile only 1 list (the first list shown as output in next cell), we can compile function as:\n",
    "# F = function([h2, h1], outputs[0])"
   ]
  },
  {
   "cell_type": "code",
   "execution_count": 14,
   "metadata": {
    "collapsed": false
   },
   "outputs": [
    {
     "data": {
      "text/plain": [
       "[array([  1.,   2.,   3.,   5.,   8.,  13.,  21.,  34.,  55.,  89.]),\n",
       " array([  1.,   1.,   2.,   3.,   5.,   8.,  13.,  21.,  34.,  55.])]"
      ]
     },
     "execution_count": 14,
     "metadata": {},
     "output_type": "execute_result"
    }
   ],
   "source": [
    "# Now call the compiled function F with 2 initial states 0 and 1, (h_t and h_tm1 are shown)\n",
    "F(0, 1)"
   ]
  },
  {
   "cell_type": "code",
   "execution_count": null,
   "metadata": {
    "collapsed": true
   },
   "outputs": [],
   "source": []
  }
 ],
 "metadata": {
  "anaconda-cloud": {},
  "kernelspec": {
   "display_name": "Python [conda root]",
   "language": "python",
   "name": "conda-root-py"
  },
  "language_info": {
   "codemirror_mode": {
    "name": "ipython",
    "version": 3
   },
   "file_extension": ".py",
   "mimetype": "text/x-python",
   "name": "python",
   "nbconvert_exporter": "python",
   "pygments_lexer": "ipython3",
   "version": "3.5.2"
  }
 },
 "nbformat": 4,
 "nbformat_minor": 2
}
